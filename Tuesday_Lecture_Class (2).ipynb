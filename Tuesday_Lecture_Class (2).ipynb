{
 "cells": [
  {
   "cell_type": "markdown",
   "metadata": {},
   "source": [
    "# Functions, Scoping, Data Collections 1 & List Comprehensions"
   ]
  },
  {
   "cell_type": "markdown",
   "metadata": {},
   "source": [
    "## Tasks Today:\n",
    "\n",
    "<i>Monday Additions (or, and ... if statements)</i>\n",
    "\n",
    "1) String Manipulation <br>\n",
    " &nbsp;&nbsp;&nbsp;&nbsp; a) strip() <br>\n",
    " &nbsp;&nbsp;&nbsp;&nbsp; b) title() <br>\n",
    "2) Working With Lists <br>\n",
    " &nbsp;&nbsp;&nbsp;&nbsp; a) min() <br>\n",
    " &nbsp;&nbsp;&nbsp;&nbsp; b) max() <br>\n",
    " &nbsp;&nbsp;&nbsp;&nbsp; c) sum() <br>\n",
    " &nbsp;&nbsp;&nbsp;&nbsp; d) sort() <br>\n",
    " &nbsp;&nbsp;&nbsp;&nbsp; e) Copying a List <br>\n",
    " &nbsp;&nbsp;&nbsp;&nbsp; f) 'in' keyword <br>\n",
    " &nbsp;&nbsp;&nbsp;&nbsp; g) 'not in' keyword <br>\n",
    " &nbsp;&nbsp;&nbsp;&nbsp; i) Checking an Empty List <br>\n",
    " &nbsp;&nbsp;&nbsp;&nbsp; j) Removing Instances with a Loop <br>\n",
    "3) List Comprehensions <br>\n",
    "4) Tuples <br>\n",
    " &nbsp;&nbsp;&nbsp;&nbsp; a) sorted() <br>\n",
    "5) Functions <br>\n",
    " &nbsp;&nbsp;&nbsp;&nbsp; a) User-Defined vs. Built-In Functions <br>\n",
    " &nbsp;&nbsp;&nbsp;&nbsp; b) Accepting Parameters <br>\n",
    " &nbsp;&nbsp;&nbsp;&nbsp; c) Default Parameters <br>\n",
    " &nbsp;&nbsp;&nbsp;&nbsp; d) Making an Argument Optional <br>\n",
    " &nbsp;&nbsp;&nbsp;&nbsp; e) Keyword Arguments <br>\n",
    " &nbsp;&nbsp;&nbsp;&nbsp; f) Returning Values <br>\n",
    " &nbsp;&nbsp;&nbsp;&nbsp; g) *args <br>\n",
    " &nbsp;&nbsp;&nbsp;&nbsp; h) Docstring <br>\n",
    " &nbsp;&nbsp;&nbsp;&nbsp; i) Using a User Function in a Loop <br>\n",
    "6) Scope"
   ]
  },
  {
   "cell_type": "markdown",
   "metadata": {},
   "source": [
    "### Monday Refreshers"
   ]
  },
  {
   "cell_type": "markdown",
   "metadata": {},
   "source": [
    "##### Using 'or' in if statements"
   ]
  },
  {
   "cell_type": "code",
   "execution_count": 4,
   "metadata": {},
   "outputs": [],
   "source": [
    "# covered yesterday\n",
    "my_list = list()"
   ]
  },
  {
   "cell_type": "markdown",
   "metadata": {},
   "source": [
    "##### Using 'and' in if statements"
   ]
  },
  {
   "cell_type": "code",
   "execution_count": 3,
   "metadata": {},
   "outputs": [],
   "source": [
    "# covered yesterday"
   ]
  },
  {
   "cell_type": "markdown",
   "metadata": {},
   "source": [
    "##### Using both 'or' and 'and' in if statements"
   ]
  },
  {
   "cell_type": "code",
   "execution_count": 4,
   "metadata": {},
   "outputs": [],
   "source": [
    "# covered yesterday"
   ]
  },
  {
   "cell_type": "markdown",
   "metadata": {},
   "source": [
    "### String Manipulation"
   ]
  },
  {
   "cell_type": "markdown",
   "metadata": {},
   "source": [
    "##### .lstrip()"
   ]
  },
  {
   "cell_type": "code",
   "execution_count": 5,
   "metadata": {},
   "outputs": [
    {
     "name": "stdout",
     "output_type": "stream",
     "text": [
      "   Leo\n",
      "Leo\n"
     ]
    }
   ],
   "source": [
    "# string.lstrip()\n",
    "name = \"   Leo\"\n",
    "print(name)\n",
    "print(name.lstrip())"
   ]
  },
  {
   "cell_type": "markdown",
   "metadata": {},
   "source": [
    "##### .rstrip()"
   ]
  },
  {
   "cell_type": "code",
   "execution_count": 6,
   "metadata": {},
   "outputs": [
    {
     "data": {
      "text/plain": [
       "'   Chris'"
      ]
     },
     "execution_count": 6,
     "metadata": {},
     "output_type": "execute_result"
    }
   ],
   "source": [
    "# string.rstrip()\n",
    "name = \"   Chris   \"\n",
    "name.rstrip()"
   ]
  },
  {
   "cell_type": "code",
   "execution_count": 28,
   "metadata": {},
   "outputs": [
    {
     "data": {
      "text/plain": [
       "'Chr'"
      ]
     },
     "execution_count": 28,
     "metadata": {},
     "output_type": "execute_result"
    }
   ],
   "source": [
    "name = \"Chris esi\"\n",
    "name.rstrip(\" eis\")\n",
    "\n"
   ]
  },
  {
   "cell_type": "markdown",
   "metadata": {},
   "source": [
    "##### .strip()"
   ]
  },
  {
   "cell_type": "code",
   "execution_count": 14,
   "metadata": {},
   "outputs": [
    {
     "data": {
      "text/plain": [
       "'Benny'"
      ]
     },
     "execution_count": 14,
     "metadata": {},
     "output_type": "execute_result"
    }
   ],
   "source": [
    "# string.strip()\n",
    "name= \"   Benny     \"\n",
    "name.strip()"
   ]
  },
  {
   "cell_type": "code",
   "execution_count": 16,
   "metadata": {},
   "outputs": [
    {
     "data": {
      "text/plain": [
       "'Benny'"
      ]
     },
     "execution_count": 16,
     "metadata": {},
     "output_type": "execute_result"
    }
   ],
   "source": [
    "name = \"t  Benny  t\"\n",
    "name.strip(\"t  \"\"  t\")\n"
   ]
  },
  {
   "cell_type": "markdown",
   "metadata": {},
   "source": [
    "##### .title()"
   ]
  },
  {
   "cell_type": "code",
   "execution_count": 18,
   "metadata": {},
   "outputs": [
    {
     "data": {
      "text/plain": [
       "'Fernando Lastname'"
      ]
     },
     "execution_count": 18,
     "metadata": {},
     "output_type": "execute_result"
    }
   ],
   "source": [
    "name = \"fernando lastname\"\n",
    "name.title()"
   ]
  },
  {
   "cell_type": "markdown",
   "metadata": {},
   "source": [
    "### String Exercise <br>\n",
    "<p>Strip all white space and capitalize every name in the list given</p>"
   ]
  },
  {
   "cell_type": "code",
   "execution_count": 29,
   "metadata": {},
   "outputs": [
    {
     "name": "stdout",
     "output_type": "stream",
     "text": [
      "Connor\n",
      "Max\n",
      "Evan\n",
      "Jordan\n"
     ]
    }
   ],
   "source": [
    "names = ['    coNNor', 'max', ' EVan ', 'JORDAN']\n",
    "# HINT: You will need to use a for loop for iteration\n",
    "for name in names:\n",
    "    print(name.strip().title())"
   ]
  },
  {
   "cell_type": "markdown",
   "metadata": {},
   "source": [
    "### Working With Lists"
   ]
  },
  {
   "cell_type": "markdown",
   "metadata": {},
   "source": [
    "##### min()"
   ]
  },
  {
   "cell_type": "code",
   "execution_count": 25,
   "metadata": {},
   "outputs": [
    {
     "data": {
      "text/plain": [
       "2"
      ]
     },
     "execution_count": 25,
     "metadata": {},
     "output_type": "execute_result"
    }
   ],
   "source": [
    "# min(list)\n",
    "my_list=[88,56,234,4,635,45,2,44,6]\n",
    "min(my_list)"
   ]
  },
  {
   "cell_type": "markdown",
   "metadata": {},
   "source": [
    "##### max()"
   ]
  },
  {
   "cell_type": "code",
   "execution_count": 26,
   "metadata": {},
   "outputs": [
    {
     "data": {
      "text/plain": [
       "635"
      ]
     },
     "execution_count": 26,
     "metadata": {},
     "output_type": "execute_result"
    }
   ],
   "source": [
    "# max(list)\n",
    "max(my_list)"
   ]
  },
  {
   "cell_type": "markdown",
   "metadata": {},
   "source": [
    "##### sum()"
   ]
  },
  {
   "cell_type": "code",
   "execution_count": 27,
   "metadata": {},
   "outputs": [
    {
     "data": {
      "text/plain": [
       "1114"
      ]
     },
     "execution_count": 27,
     "metadata": {},
     "output_type": "execute_result"
    }
   ],
   "source": [
    "# sum(list)\n",
    "sum(my_list)"
   ]
  },
  {
   "cell_type": "markdown",
   "metadata": {},
   "source": [
    "##### sorted()"
   ]
  },
  {
   "cell_type": "code",
   "execution_count": 35,
   "metadata": {},
   "outputs": [
    {
     "name": "stdout",
     "output_type": "stream",
     "text": [
      "[2, 4, 6, 44, 45, 56, 88, 234, 634]\n",
      "[88, 56, 234, 4, 634, 45, 2, 44, 6]\n",
      "[2, 4, 6, 44, 45, 56, 88, 234, 634]\n"
     ]
    }
   ],
   "source": [
    "# sorted(list)\n",
    "# returns a copy of the array in sorted order\n",
    "print(sorted(my_list))\n",
    "print(my_list)\n",
    "\n",
    "my_list = sorted(my_list)\n",
    "print(my_list)"
   ]
  },
  {
   "cell_type": "markdown",
   "metadata": {},
   "source": [
    "##### .sort() <br>\n",
    "<p>Difference between sort and sorted, is that sorted doesn't change original list it returns a copy, while .sort changes the original list</p>"
   ]
  },
  {
   "cell_type": "code",
   "execution_count": 22,
   "metadata": {},
   "outputs": [
    {
     "data": {
      "text/plain": [
       "[2, 4, 6, 44, 45, 56, 88, 234, 634]"
      ]
     },
     "execution_count": 22,
     "metadata": {},
     "output_type": "execute_result"
    }
   ],
   "source": [
    "# list.sort()\n",
    "my_list=[88,56,234,4,634,45,2,44,6]\n",
    "my_list.sort()\n",
    "my_list"
   ]
  },
  {
   "cell_type": "markdown",
   "metadata": {},
   "source": [
    "##### Copying a List"
   ]
  },
  {
   "cell_type": "code",
   "execution_count": 23,
   "metadata": {},
   "outputs": [],
   "source": [
    "# [:] copies a list, doesn't alter original\n",
    "my_list = [1,2,3,4,5]\n",
    "my_list2 = my_list[:]\n",
    "my_list2.append(6)\n"
   ]
  },
  {
   "cell_type": "code",
   "execution_count": 40,
   "metadata": {},
   "outputs": [
    {
     "name": "stdout",
     "output_type": "stream",
     "text": [
      "[1, 2, 3, 4, 5, 6]\n",
      "[1, 2, 3, 4, 5, 6]\n"
     ]
    }
   ],
   "source": [
    "my_list = [1,2,3,4,5]\n",
    "my_list2 = my_list\n",
    "my_list.append(6)\n",
    "print(my_list2)\n",
    "print(my_list)"
   ]
  },
  {
   "cell_type": "markdown",
   "metadata": {},
   "source": [
    "##### 'in' keyword"
   ]
  },
  {
   "cell_type": "code",
   "execution_count": 53,
   "metadata": {},
   "outputs": [],
   "source": [
    "def change_string(string):\n",
    "    return string+\"blah\""
   ]
  },
  {
   "cell_type": "markdown",
   "metadata": {},
   "source": [
    "##### 'not in' keyword"
   ]
  },
  {
   "cell_type": "code",
   "execution_count": 54,
   "metadata": {},
   "outputs": [
    {
     "data": {
      "text/plain": [
       "'Stringblah'"
      ]
     },
     "execution_count": 54,
     "metadata": {},
     "output_type": "execute_result"
    }
   ],
   "source": [
    "\"string\".title()\n",
    "change_string(\"String\")"
   ]
  },
  {
   "cell_type": "markdown",
   "metadata": {},
   "source": [
    "##### Checking an Empty List"
   ]
  },
  {
   "cell_type": "code",
   "execution_count": 43,
   "metadata": {},
   "outputs": [
    {
     "name": "stdout",
     "output_type": "stream",
     "text": [
      "Its empty\n",
      "Its empty\n",
      "Its empty\n"
     ]
    }
   ],
   "source": [
    "my_list = []\n",
    "if my_list == []:\n",
    "    print(\"Its empty\")\n",
    "if len(my_list) == 0:\n",
    "    print(\"Its empty\")\n",
    "if not my_list:\n",
    "    print(\"Its empty\")"
   ]
  },
  {
   "cell_type": "code",
   "execution_count": 1,
   "metadata": {},
   "outputs": [
    {
     "name": "stdout",
     "output_type": "stream",
     "text": [
      "I have a list\n"
     ]
    }
   ],
   "source": [
    "my_list=[1,2,3]\n",
    "\n",
    "if my_list:\n",
    "    print(\"I have a list\")"
   ]
  },
  {
   "cell_type": "markdown",
   "metadata": {},
   "source": [
    "##### Removing Instances with a Loop"
   ]
  },
  {
   "cell_type": "code",
   "execution_count": 49,
   "metadata": {},
   "outputs": [
    {
     "name": "stdout",
     "output_type": "stream",
     "text": [
      "['Josh', 'Thu', 'Chris', 'Benny', 'Chris']\n",
      "['Josh', 'Thu', 'Benny', 'Chris']\n",
      "['Josh', 'Thu', 'Benny']\n",
      "['Josh', 'Thu', 'Benny']\n"
     ]
    }
   ],
   "source": [
    "# while, remove\n",
    "names =[\"Chris\",\"Josh\",\"Thu\",\"Chris\",\"Benny\", \"Chris\"]\n",
    "while \"Chris\" in names:\n",
    "    names.remove(\"Chris\")\n",
    "    print(names)\n",
    "print(names)"
   ]
  },
  {
   "cell_type": "markdown",
   "metadata": {},
   "source": [
    "### List Exercise <br>\n",
    "<p>Remove all duplicates<br><b>Extra: Create a program that will remove any duplicates from a given list</b></p>"
   ]
  },
  {
   "cell_type": "code",
   "execution_count": 50,
   "metadata": {},
   "outputs": [
    {
     "name": "stdout",
     "output_type": "stream",
     "text": [
      "['connor', 'bob', 'evan', 'max', 2, 3, 4, 'kevin']\n"
     ]
    }
   ],
   "source": [
    "names = ['connor', 'connor', 'bob', 'connor', 'evan', 'max', 'evan', 2, 2, 2, 3, 3, 4, 'bob', 'kevin']\n",
    "# Hint 1: You will need an append\n",
    "# Hint 2: Using an empty list will make life easier\n",
    "new_names = []\n",
    "for name in names:\n",
    "    if name not in new_names:\n",
    "        new_names.append(name)\n",
    "\n",
    "print(new_names)\n",
    "\n"
   ]
  },
  {
   "cell_type": "markdown",
   "metadata": {},
   "source": [
    "### List Comprehensions <br>\n",
    "<p>Creating a quickly generated list to work with<br>*result*  = [*transform*    *iteration*         *filter*     ]</p>"
   ]
  },
  {
   "cell_type": "markdown",
   "metadata": {},
   "source": [
    "##### In a list comprehension we have a few pieces:\n",
    "1. The first is the counter/ variable - IN this the variable is x\n",
    "2. then we have a transform for the variable\n",
    "3. The finale part of a list comp is called the condition\n",
    "\n",
    "```python\n",
    "    [variable, transform, condition]\n",
    "```"
   ]
  },
  {
   "cell_type": "code",
   "execution_count": 6,
   "metadata": {},
   "outputs": [],
   "source": [
    "nums = []\n",
    "for i in range(100):\n",
    "    nums.append(i)\n",
    "    \n",
    "nums_comp = [i**2 for i in range(100)]\n",
    "nums_comp"
   ]
  },
  {
   "cell_type": "markdown",
   "metadata": {},
   "source": [
    "There are a few benefits to using List comprehensions. The most obvious would be that we now have shorter code to work with instead of using 3+ lines of code in the for loop variant.\n",
    "\n",
    "Another is an added benefit to memory usage. Since the list's memory is allocated first before adding elements to it, we don't have to resize the list once we add elements to it.\n",
    "\n",
    "Lastly, list comprehensions are considered the \"pythonic\" way to write code by the PEP8 standards (Python Style Guide)"
   ]
  },
  {
   "cell_type": "code",
   "execution_count": 6,
   "metadata": {},
   "outputs": [
    {
     "data": {
      "text/plain": [
       "['V', 'C', 'S']"
      ]
     },
     "execution_count": 6,
     "metadata": {},
     "output_type": "execute_result"
    }
   ],
   "source": [
    "#string comp\n",
    "names = [\"Vicky\", \"Chris\", \"Samantha\"]\n",
    "\n",
    "first_char_comp = [name[0] for name in names]\n",
    "first_char_comp"
   ]
  },
  {
   "cell_type": "code",
   "execution_count": 4,
   "metadata": {},
   "outputs": [
    {
     "data": {
      "text/plain": [
       "['Vicky', 'Chris', 'Not 5']"
      ]
     },
     "execution_count": 4,
     "metadata": {},
     "output_type": "execute_result"
    }
   ],
   "source": [
    "five_letter_names = [name for name in names if len(name) ==5]\n",
    "\n",
    "five_letter_names2 = [name if len(name) == 5 else \"Not 5\" for name in names]\n",
    "\n",
    "five_letter_names2"
   ]
  },
  {
   "cell_type": "code",
   "execution_count": 4,
   "metadata": {},
   "outputs": [],
   "source": [
    "#Double Nested Loop\n",
    "la = [1,2,3,4,5,6]\n",
    "lb = [\"A\",\"B\",\"C\",\"D\"]\n",
    "\n",
    "let_num = []\n",
    "for number in la:\n",
    "        for letter in lb:\n",
    "                let_num.append(str(number)+letter)"
   ]
  },
  {
   "cell_type": "code",
   "execution_count": 5,
   "metadata": {},
   "outputs": [
    {
     "data": {
      "text/plain": [
       "['1A',\n",
       " '1B',\n",
       " '1C',\n",
       " '1D',\n",
       " '2A',\n",
       " '2B',\n",
       " '2C',\n",
       " '2D',\n",
       " '3A',\n",
       " '3B',\n",
       " '3C',\n",
       " '3D',\n",
       " '4A',\n",
       " '4B',\n",
       " '4C',\n",
       " '4D',\n",
       " '5A',\n",
       " '5B',\n",
       " '5C',\n",
       " '5D',\n",
       " '6A',\n",
       " '6B',\n",
       " '6C',\n",
       " '6D']"
      ]
     },
     "execution_count": 5,
     "metadata": {},
     "output_type": "execute_result"
    }
   ],
   "source": [
    "let_num_comp = [str(number) + letter for number in la for letter in lb]\n",
    "let_num_comp"
   ]
  },
  {
   "cell_type": "code",
   "execution_count": null,
   "metadata": {},
   "outputs": [],
   "source": [
    "#chained loops\n",
    "sentence = []\n",
    "letter = []\n",
    "for word in sentence"
   ]
  },
  {
   "cell_type": "markdown",
   "metadata": {},
   "source": [
    "### Tuples <br>\n",
    "<p><b>Defined as an immutable list</b></p><br>Seperated by commas using parenthesis"
   ]
  },
  {
   "cell_type": "code",
   "execution_count": null,
   "metadata": {},
   "outputs": [],
   "source": []
  },
  {
   "cell_type": "markdown",
   "metadata": {},
   "source": [
    "##### sorted()"
   ]
  },
  {
   "cell_type": "code",
   "execution_count": null,
   "metadata": {},
   "outputs": [],
   "source": []
  },
  {
   "cell_type": "markdown",
   "metadata": {},
   "source": [
    "##### Adding values to a Tuple"
   ]
  },
  {
   "cell_type": "code",
   "execution_count": 16,
   "metadata": {},
   "outputs": [
    {
     "ename": "NameError",
     "evalue": "name 't_4' is not defined",
     "output_type": "error",
     "traceback": [
      "\u001b[1;31m---------------------------------------------------------------------------\u001b[0m",
      "\u001b[1;31mNameError\u001b[0m                                 Traceback (most recent call last)",
      "\u001b[1;32m<ipython-input-16-5d4da4b9e89f>\u001b[0m in \u001b[0;36m<module>\u001b[1;34m\u001b[0m\n\u001b[0;32m      1\u001b[0m \u001b[1;31m#Reconstruct the tuple and add values\u001b[0m\u001b[1;33m\u001b[0m\u001b[1;33m\u001b[0m\u001b[1;33m\u001b[0m\u001b[0m\n\u001b[1;32m----> 2\u001b[1;33m \u001b[0mt_4\u001b[0m \u001b[1;33m=\u001b[0m \u001b[0mt_4\u001b[0m \u001b[1;33m+\u001b[0m \u001b[1;33m(\u001b[0m\u001b[1;36m4\u001b[0m\u001b[1;33m,\u001b[0m\u001b[1;33m)\u001b[0m\u001b[1;33m\u001b[0m\u001b[1;33m\u001b[0m\u001b[0m\n\u001b[0m",
      "\u001b[1;31mNameError\u001b[0m: name 't_4' is not defined"
     ]
    }
   ],
   "source": [
    "#Reconstruct the tuple and add values\n",
    "t_5 = t_5 + (4,)\n"
   ]
  },
  {
   "cell_type": "markdown",
   "metadata": {},
   "source": [
    "## Functions"
   ]
  },
  {
   "cell_type": "markdown",
   "metadata": {},
   "source": [
    "##### User-Defined vs. Built-In Functions"
   ]
  },
  {
   "cell_type": "code",
   "execution_count": 18,
   "metadata": {},
   "outputs": [
    {
     "name": "stdout",
     "output_type": "stream",
     "text": [
      "Bonjour Monde!\n"
     ]
    }
   ],
   "source": [
    "def say_hello():\n",
    "    print (\"Bonjour Monde!\")\n",
    "    \n",
    "say_hello()\n"
   ]
  },
  {
   "cell_type": "markdown",
   "metadata": {},
   "source": [
    "##### Accepting Parameters"
   ]
  },
  {
   "cell_type": "code",
   "execution_count": 18,
   "metadata": {},
   "outputs": [],
   "source": [
    "# Order matters\n",
    "# A variable can be any type of object"
   ]
  },
  {
   "cell_type": "markdown",
   "metadata": {},
   "source": [
    "##### Default Parameters"
   ]
  },
  {
   "cell_type": "code",
   "execution_count": null,
   "metadata": {},
   "outputs": [],
   "source": []
  },
  {
   "cell_type": "markdown",
   "metadata": {},
   "source": [
    "##### Making an Argument Optional"
   ]
  },
  {
   "cell_type": "code",
   "execution_count": null,
   "metadata": {},
   "outputs": [],
   "source": []
  },
  {
   "cell_type": "markdown",
   "metadata": {},
   "source": [
    "##### Keyword Arguments"
   ]
  },
  {
   "cell_type": "code",
   "execution_count": null,
   "metadata": {},
   "outputs": [],
   "source": [
    "my_dict =\n",
    "{\n",
    "    \"first\":\"sydney\",\n",
    "    \"mid\": \"G\",\n",
    "    \"last\":\"romero\"     \n",
    "}\n",
    "\n",
    "make_name(**my_dict)"
   ]
  },
  {
   "cell_type": "markdown",
   "metadata": {},
   "source": [
    "# Creating a start, stop, step function"
   ]
  },
  {
   "cell_type": "code",
   "execution_count": 19,
   "metadata": {},
   "outputs": [
    {
     "name": "stdout",
     "output_type": "stream",
     "text": [
      "2\n",
      "4\n",
      "6\n",
      "8\n"
     ]
    }
   ],
   "source": [
    "def my_range(stop, start=0, step=1):\n",
    "    for i in range (start, stop, step):\n",
    "        print(i)\n",
    "my_range(10,2,2)"
   ]
  },
  {
   "cell_type": "markdown",
   "metadata": {},
   "source": [
    "##### Returning Values"
   ]
  },
  {
   "cell_type": "code",
   "execution_count": 21,
   "metadata": {},
   "outputs": [
    {
     "ename": "NameError",
     "evalue": "name 'add_nums' is not defined",
     "output_type": "error",
     "traceback": [
      "\u001b[1;31m---------------------------------------------------------------------------\u001b[0m",
      "\u001b[1;31mNameError\u001b[0m                                 Traceback (most recent call last)",
      "\u001b[1;32m<ipython-input-21-624119a37b34>\u001b[0m in \u001b[0;36m<module>\u001b[1;34m\u001b[0m\n\u001b[0;32m      2\u001b[0m     \u001b[1;32mreturn\u001b[0m\u001b[1;33m(\u001b[0m\u001b[0mnum1\u001b[0m \u001b[1;33m+\u001b[0m \u001b[0mnum2\u001b[0m\u001b[1;33m)\u001b[0m\u001b[1;33m\u001b[0m\u001b[1;33m\u001b[0m\u001b[0m\n\u001b[0;32m      3\u001b[0m \u001b[1;33m\u001b[0m\u001b[0m\n\u001b[1;32m----> 4\u001b[1;33m \u001b[0madd_nums\u001b[0m\u001b[1;33m(\u001b[0m\u001b[1;36m1\u001b[0m\u001b[1;33m,\u001b[0m\u001b[1;36m2\u001b[0m\u001b[1;33m)\u001b[0m\u001b[1;33m\u001b[0m\u001b[1;33m\u001b[0m\u001b[0m\n\u001b[0m\u001b[0;32m      5\u001b[0m \u001b[0mx\u001b[0m\u001b[1;33m=\u001b[0m\u001b[1;36m222222\u001b[0m\u001b[1;33m\u001b[0m\u001b[1;33m\u001b[0m\u001b[0m\n",
      "\u001b[1;31mNameError\u001b[0m: name 'add_nums' is not defined"
     ]
    }
   ],
   "source": [
    "def Add_nums(num1, num2):\n",
    "    return(num1 + num2)\n",
    "\n",
    "add_nums(1,2)\n",
    "x=222222"
   ]
  },
  {
   "cell_type": "markdown",
   "metadata": {},
   "source": [
    "##### *args"
   ]
  },
  {
   "cell_type": "code",
   "execution_count": 19,
   "metadata": {},
   "outputs": [],
   "source": [
    "#stands for arguments, takes ANY number of arguments as parameters\n",
    "#must be last if multiple parameters are presents\n"
   ]
  },
  {
   "cell_type": "markdown",
   "metadata": {},
   "source": [
    "##### Docstring"
   ]
  },
  {
   "cell_type": "code",
   "execution_count": 35,
   "metadata": {},
   "outputs": [
    {
     "name": "stdout",
     "output_type": "stream",
     "text": [
      "John\n",
      "samantha\n",
      "Josh\n"
     ]
    }
   ],
   "source": [
    "def print_names(list_):\n",
    "        \"\"\"\n",
    "        list_ : is type list filled with strings\n",
    "        this function will print all the names in the list\n",
    "        \"\"\"\n",
    "        for name in list_:\n",
    "            print(name)\n",
    "            \n",
    "print_names([\"John\", \"samantha\",\"Josh\"])"
   ]
  },
  {
   "cell_type": "markdown",
   "metadata": {},
   "source": [
    "##### Using a User Function in a Loop"
   ]
  },
  {
   "cell_type": "code",
   "execution_count": null,
   "metadata": {},
   "outputs": [],
   "source": []
  },
  {
   "cell_type": "markdown",
   "metadata": {},
   "source": [
    "## Function Exercise <br>\n",
    "<p>Write a function that loops through a list of first_names and a list of last_names, combines the two and return a list of full_names</p>"
   ]
  },
  {
   "cell_type": "code",
   "execution_count": 8,
   "metadata": {},
   "outputs": [
    {
     "name": "stdout",
     "output_type": "stream",
     "text": [
      "['John Smith', 'Evan Smith', 'Jordan Williams', 'Max Bell']\n"
     ]
    }
   ],
   "source": [
    "first_name = ['John', 'Evan', 'Jordan', 'Max']\n",
    "last_name = ['Smith', 'Smith', 'Williams', 'Bell']\n",
    "\n",
    "def add_names(first_names, last_names):\n",
    "    full_names = []\n",
    "    for i in range(len(first_names)):\n",
    "        full_names.append(first_names[i]+ \" \"+ last_names[i])\n",
    "    return full_names\n",
    "\n",
    "print(add_names(first_name, last_name))\n",
    "   "
   ]
  },
  {
   "cell_type": "code",
   "execution_count": null,
   "metadata": {},
   "outputs": [],
   "source": [
    "first_name = ['John', 'Evan', 'Jordan', 'Max']\n",
    "last_name = ['Smith', 'Smith', 'Williams', 'Bell']\n",
    "\n",
    "for first_name, last_name in zip(first_name, last_name):\n",
    "   print(first_name, last_name)\n",
    "\n",
    "# Output: ['John Smith', 'Evan Smith', 'Jordan Williams', 'Max Bell']      "
   ]
  },
  {
   "cell_type": "markdown",
   "metadata": {},
   "source": [
    "## Scope <br>\n",
    "<p>Scope refers to the ability to access variables, different types of scope include:<br>a) Global<br>b) Function (local)<br>c) Class (local)</p>"
   ]
  },
  {
   "cell_type": "code",
   "execution_count": 56,
   "metadata": {},
   "outputs": [
    {
     "name": "stdout",
     "output_type": "stream",
     "text": [
      "3\n",
      "6\n"
     ]
    }
   ],
   "source": [
    "#placement of variable declaration matters\n",
    "num = 6 #global var\n",
    "\n",
    "def my_func():\n",
    "    num2 = 1 #local var\n",
    "    return num2 + 2\n",
    "\n",
    "print(my_func())\n",
    "\n",
    "print(num)\n"
   ]
  },
  {
   "cell_type": "markdown",
   "metadata": {},
   "source": [
    "# Exercises"
   ]
  },
  {
   "cell_type": "markdown",
   "metadata": {},
   "source": [
    "## Exercise 1 <br>\n",
    "<p>Given a list as a parameter,write a function that returns a list of numbers that are less than ten</b></i></p><br>\n",
    "<p> For example: Say your input parameter to the function is [1,11,14,5,8,9]...Your output should [1,5,8,9]</p>"
   ]
  },
  {
   "cell_type": "code",
   "execution_count": 10,
   "metadata": {},
   "outputs": [
    {
     "name": "stdout",
     "output_type": "stream",
     "text": [
      "[1, 5, 8, 9]\n"
     ]
    }
   ],
   "source": [
    "# Use the following list - [1,11,14,5,8,9]\n",
    "\n",
    "def ltten(seq): \n",
    "    nums=[] \n",
    "    for i in seq: \n",
    "        if i<10: \n",
    "            nums.append(i) \n",
    "             \n",
    "    return(nums) \n",
    "     \n",
    "print(ltten([1,11,14,5,8,9])) \n"
   ]
  },
  {
   "cell_type": "markdown",
   "metadata": {},
   "source": [
    "## Exercise 2 <br>\n",
    "<p>Write a function that takes in two lists and returns the two lists merged together and sorted<br>\n",
    "<b><i>Hint: You can use the .sort() method</i></b></p>"
   ]
  },
  {
   "cell_type": "code",
   "execution_count": 9,
   "metadata": {},
   "outputs": [
    {
     "name": "stdout",
     "output_type": "stream",
     "text": [
      "['789 flea', 'ella 789', 'patsy qwerty', 'tupac 123']\n"
     ]
    }
   ],
   "source": [
    "la = ['tupac', '789', 'ella', 'patsy']\n",
    "lb = ['123', 'flea', '789', 'qwerty']\n",
    "\n",
    "def add_list(la1, lb1):\n",
    "    full_list = []\n",
    "    for i in range(len(la1)):\n",
    "        full_list.append(la1[i]+ \" \"+ lb1[i])\n",
    "    return full_list\n",
    "    \n",
    "print(sorted(add_list(la, lb)))"
   ]
  },
  {
   "cell_type": "code",
   "execution_count": null,
   "metadata": {},
   "outputs": [],
   "source": []
  }
 ],
 "metadata": {
  "kernelspec": {
   "display_name": "Python 3",
   "language": "python",
   "name": "python3"
  },
  "language_info": {
   "codemirror_mode": {
    "name": "ipython",
    "version": 3
   },
   "file_extension": ".py",
   "mimetype": "text/x-python",
   "name": "python",
   "nbconvert_exporter": "python",
   "pygments_lexer": "ipython3",
   "version": "3.8.8"
  }
 },
 "nbformat": 4,
 "nbformat_minor": 2
}